{
  "nbformat": 4,
  "nbformat_minor": 0,
  "metadata": {
    "colab": {
      "name": "capeAIHometest.ipynb",
      "provenance": [],
      "authorship_tag": "ABX9TyOQKIFTX1orWCyrneIhfTyu",
      "include_colab_link": true
    },
    "kernelspec": {
      "name": "python3",
      "display_name": "Python 3"
    },
    "language_info": {
      "name": "python"
    }
  },
  "cells": [
    {
      "cell_type": "markdown",
      "metadata": {
        "id": "view-in-github",
        "colab_type": "text"
      },
      "source": [
        "<a href=\"https://colab.research.google.com/github/BonganiSomba/Machine_Learning_For_Supply_Chain/blob/main/capeAIHometest.ipynb\" target=\"_parent\"><img src=\"https://colab.research.google.com/assets/colab-badge.svg\" alt=\"Open In Colab\"/></a>"
      ]
    },
    {
      "cell_type": "code",
      "metadata": {
        "id": "Pqh7qzX6M5o1"
      },
      "source": [
        "import os \n",
        "import numpy as np\n",
        "import pandas as pd\n",
        "####importing modules  \n",
        "import pandas as pd\n",
        "import numpy as np\n",
        "from sklearn.datasets import make_classification\n",
        "import matplotlib.pyplot as plt\n",
        "from sklearn.metrics import confusion_matrix\n",
        "import seaborn as sns\n",
        "import matplotlib.pyplot as plt\n",
        "%matplotlib inline\n",
        "#!pip install -U imbalanced-learn \n",
        "#!pip install -U delayed\n",
        "\n",
        "import pickle"
      ],
      "execution_count": 53,
      "outputs": []
    },
    {
      "cell_type": "markdown",
      "metadata": {
        "id": "xT9-ZyGTNLs6"
      },
      "source": [
        "since we have given train dataset and test dataset, we will work with training set first"
      ]
    },
    {
      "cell_type": "code",
      "metadata": {
        "id": "S8GoH7oRNInZ"
      },
      "source": [
        "df_train_demog = pd.read_csv('traindemographics.csv')  ####demographic dataset\n",
        "df_train_perf= pd.read_csv('trainperf.csv')            ###### perf\n",
        "df_train_prev = pd.read_csv('trainprevloans.csv')      ######  prevloann"
      ],
      "execution_count": 2,
      "outputs": []
    },
    {
      "cell_type": "markdown",
      "metadata": {
        "id": "f0rFT8eXN7Fw"
      },
      "source": [
        "the next step is to combine this training dataset into one dataframe "
      ]
    },
    {
      "cell_type": "code",
      "metadata": {
        "colab": {
          "base_uri": "https://localhost:8080/",
          "height": 165
        },
        "id": "k8EIJ64RNanj",
        "outputId": "f858d860-1c64-4a9a-8233-8f37f8a4f18b"
      },
      "source": [
        "### we merge all the dataset into one dataframe \n",
        "from functools import reduce\n",
        "df = [df_train_demog,df_train_perf,df_train_prev]\n",
        "df_train = reduce(lambda left,right: pd.merge(left,right,on=['customerid'],\n",
        "                                              how='outer'),df)\n",
        "\n",
        "df_train.head(2)"
      ],
      "execution_count": 49,
      "outputs": [
        {
          "output_type": "execute_result",
          "data": {
            "text/html": [
              "<div>\n",
              "<style scoped>\n",
              "    .dataframe tbody tr th:only-of-type {\n",
              "        vertical-align: middle;\n",
              "    }\n",
              "\n",
              "    .dataframe tbody tr th {\n",
              "        vertical-align: top;\n",
              "    }\n",
              "\n",
              "    .dataframe thead th {\n",
              "        text-align: right;\n",
              "    }\n",
              "</style>\n",
              "<table border=\"1\" class=\"dataframe\">\n",
              "  <thead>\n",
              "    <tr style=\"text-align: right;\">\n",
              "      <th></th>\n",
              "      <th>customerid</th>\n",
              "      <th>birthdate</th>\n",
              "      <th>bank_account_type</th>\n",
              "      <th>longitude_gps</th>\n",
              "      <th>latitude_gps</th>\n",
              "      <th>bank_name_clients</th>\n",
              "      <th>bank_branch_clients</th>\n",
              "      <th>employment_status_clients</th>\n",
              "      <th>level_of_education_clients</th>\n",
              "      <th>systemloanid_x</th>\n",
              "      <th>loannumber_x</th>\n",
              "      <th>approveddate_x</th>\n",
              "      <th>creationdate_x</th>\n",
              "      <th>loanamount_x</th>\n",
              "      <th>totaldue_x</th>\n",
              "      <th>termdays_x</th>\n",
              "      <th>referredby_x</th>\n",
              "      <th>good_bad_flag</th>\n",
              "      <th>systemloanid_y</th>\n",
              "      <th>loannumber_y</th>\n",
              "      <th>approveddate_y</th>\n",
              "      <th>creationdate_y</th>\n",
              "      <th>loanamount_y</th>\n",
              "      <th>totaldue_y</th>\n",
              "      <th>termdays_y</th>\n",
              "      <th>closeddate</th>\n",
              "      <th>referredby_y</th>\n",
              "      <th>firstduedate</th>\n",
              "      <th>firstrepaiddate</th>\n",
              "    </tr>\n",
              "  </thead>\n",
              "  <tbody>\n",
              "    <tr>\n",
              "      <th>0</th>\n",
              "      <td>8a858e135cb22031015cbafc76964ebd</td>\n",
              "      <td>1973-10-10 00:00:00.000000</td>\n",
              "      <td>Savings</td>\n",
              "      <td>3.319219</td>\n",
              "      <td>6.528604</td>\n",
              "      <td>GT Bank</td>\n",
              "      <td>NaN</td>\n",
              "      <td>NaN</td>\n",
              "      <td>NaN</td>\n",
              "      <td>301964962.0</td>\n",
              "      <td>2.0</td>\n",
              "      <td>2017-07-05 14:29:48.000000</td>\n",
              "      <td>2017-07-05 13:29:42.000000</td>\n",
              "      <td>10000.0</td>\n",
              "      <td>13000.0</td>\n",
              "      <td>30.0</td>\n",
              "      <td>8a858899538ddb8e0153a780c56e34bb</td>\n",
              "      <td>Good</td>\n",
              "      <td>301943951.0</td>\n",
              "      <td>1.0</td>\n",
              "      <td>2017-06-19 17:55:26.000000</td>\n",
              "      <td>2017-06-19 16:54:19.000000</td>\n",
              "      <td>10000.0</td>\n",
              "      <td>11500.0</td>\n",
              "      <td>15.0</td>\n",
              "      <td>2017-07-04 18:09:47.000000</td>\n",
              "      <td>8a858899538ddb8e0153a780c56e34bb</td>\n",
              "      <td>2017-07-05 00:00:00.000000</td>\n",
              "      <td>2017-07-04 17:59:36.000000</td>\n",
              "    </tr>\n",
              "    <tr>\n",
              "      <th>1</th>\n",
              "      <td>8a858e275c7ea5ec015c82482d7c3996</td>\n",
              "      <td>1986-01-21 00:00:00.000000</td>\n",
              "      <td>Savings</td>\n",
              "      <td>3.325598</td>\n",
              "      <td>7.119403</td>\n",
              "      <td>Sterling Bank</td>\n",
              "      <td>NaN</td>\n",
              "      <td>Permanent</td>\n",
              "      <td>NaN</td>\n",
              "      <td>301972172.0</td>\n",
              "      <td>2.0</td>\n",
              "      <td>2017-07-10 21:21:46.000000</td>\n",
              "      <td>2017-07-10 20:21:40.000000</td>\n",
              "      <td>10000.0</td>\n",
              "      <td>13000.0</td>\n",
              "      <td>30.0</td>\n",
              "      <td>NaN</td>\n",
              "      <td>Bad</td>\n",
              "      <td>301929966.0</td>\n",
              "      <td>1.0</td>\n",
              "      <td>2017-06-07 12:47:30.000000</td>\n",
              "      <td>2017-06-07 11:46:22.000000</td>\n",
              "      <td>10000.0</td>\n",
              "      <td>13000.0</td>\n",
              "      <td>30.0</td>\n",
              "      <td>2017-07-10 08:52:54.000000</td>\n",
              "      <td>NaN</td>\n",
              "      <td>2017-07-07 00:00:00.000000</td>\n",
              "      <td>2017-07-10 08:42:44.000000</td>\n",
              "    </tr>\n",
              "  </tbody>\n",
              "</table>\n",
              "</div>"
            ],
            "text/plain": [
              "                         customerid  ...             firstrepaiddate\n",
              "0  8a858e135cb22031015cbafc76964ebd  ...  2017-07-04 17:59:36.000000\n",
              "1  8a858e275c7ea5ec015c82482d7c3996  ...  2017-07-10 08:42:44.000000\n",
              "\n",
              "[2 rows x 29 columns]"
            ]
          },
          "metadata": {},
          "execution_count": 49
        }
      ]
    },
    {
      "cell_type": "markdown",
      "metadata": {
        "id": "WR3pri1qY9q0"
      },
      "source": [
        "### Data PreProccessing"
      ]
    },
    {
      "cell_type": "markdown",
      "metadata": {
        "id": "s1W6tH8sZDJe"
      },
      "source": [
        "##Data exploration\n"
      ]
    },
    {
      "cell_type": "code",
      "metadata": {
        "colab": {
          "base_uri": "https://localhost:8080/",
          "height": 297
        },
        "id": "AtAD-HcgZAJF",
        "outputId": "09e77a4f-c6ec-4eff-fb1b-cfb74a52b5db"
      },
      "source": [
        "sns.countplot(x='bank_account_type',data=df_train, palette='RdBu_r')"
      ],
      "execution_count": 54,
      "outputs": [
        {
          "output_type": "execute_result",
          "data": {
            "text/plain": [
              "<matplotlib.axes._subplots.AxesSubplot at 0x7f1a94979650>"
            ]
          },
          "metadata": {},
          "execution_count": 54
        },
        {
          "output_type": "display_data",
          "data": {
            "image/png": "[encoded data removed]",
            "text/plain": [
              "<Figure size 432x288 with 1 Axes>"
            ]
          },
          "metadata": {
            "needs_background": "light"
          }
        }
      ]
    },
    {
      "cell_type": "code",
      "metadata": {
        "colab": {
          "base_uri": "https://localhost:8080/",
          "height": 297
        },
        "id": "oXwSL2LaZL8A",
        "outputId": "a9059c1e-2937-431d-e5e8-8ea538c75884"
      },
      "source": [
        "###### we can tell we have higher number of people who are permant \n",
        "sns.countplot(x='employment_status_clients',data=df_train, palette='RdBu_r')"
      ],
      "execution_count": 62,
      "outputs": [
        {
          "output_type": "execute_result",
          "data": {
            "text/plain": [
              "<matplotlib.axes._subplots.AxesSubplot at 0x7f1a939c2f10>"
            ]
          },
          "metadata": {},
          "execution_count": 62
        },
        {
          "output_type": "display_data",
          "data": {
            "image/png": "[encoded data removed]",
            "text/plain": [
              "<Figure size 432x288 with 1 Axes>"
            ]
          },
          "metadata": {
            "needs_background": "light"
          }
        }
      ]
    },
    {
      "cell_type": "code",
      "metadata": {
        "colab": {
          "base_uri": "https://localhost:8080/",
          "height": 297
        },
        "id": "8gfT1L4BZPoe",
        "outputId": "a08d4a22-21b0-4208-e630-6e436e3e7ec6"
      },
      "source": [
        "### from the graph we can see that most of our customers have good record of paying in time\n",
        "sns.countplot(x='good_bad_flag',data=df_train, palette='RdBu_r')"
      ],
      "execution_count": 64,
      "outputs": [
        {
          "output_type": "execute_result",
          "data": {
            "text/plain": [
              "<matplotlib.axes._subplots.AxesSubplot at 0x7f1a938afbd0>"
            ]
          },
          "metadata": {},
          "execution_count": 64
        },
        {
          "output_type": "display_data",
          "data": {
            "image/png": "[encoded data removed]",
            "text/plain": [
              "<Figure size 432x288 with 1 Axes>"
            ]
          },
          "metadata": {
            "needs_background": "light"
          }
        }
      ]
    },
    {
      "cell_type": "markdown",
      "metadata": {
        "id": "9TczhuhGZTKf"
      },
      "source": [
        "###checking for missing values and solve them"
      ]
    },
    {
      "cell_type": "code",
      "metadata": {
        "colab": {
          "base_uri": "https://localhost:8080/"
        },
        "id": "oMp7CKLWZYhi",
        "outputId": "a3ac80b0-9a69-4fb8-e7ba-9d09c9b156c4"
      },
      "source": [
        "df_train.isnull().sum()"
      ],
      "execution_count": 68,
      "outputs": [
        {
          "output_type": "execute_result",
          "data": {
            "text/plain": [
              "customerid                        0\n",
              "birthdate                      4514\n",
              "bank_account_type              4514\n",
              "longitude_gps                  4514\n",
              "latitude_gps                   4514\n",
              "bank_name_clients              4514\n",
              "bank_branch_clients           19156\n",
              "employment_status_clients      6032\n",
              "level_of_education_clients    15670\n",
              "systemloanid_x                 1069\n",
              "loannumber_x                   1069\n",
              "approveddate_x                 1069\n",
              "creationdate_x                 1069\n",
              "loanamount_x                   1069\n",
              "totaldue_x                     1069\n",
              "termdays_x                     1069\n",
              "referredby_x                  18253\n",
              "good_bad_flag                  1069\n",
              "systemloanid_y                 1078\n",
              "loannumber_y                   1078\n",
              "approveddate_y                 1078\n",
              "creationdate_y                 1078\n",
              "loanamount_y                   1078\n",
              "totaldue_y                     1078\n",
              "termdays_y                     1078\n",
              "closeddate                     1078\n",
              "referredby_y                  18253\n",
              "firstduedate                   1078\n",
              "firstrepaiddate                1078\n",
              "dtype: int64"
            ]
          },
          "metadata": {},
          "execution_count": 68
        }
      ]
    },
    {
      "cell_type": "code",
      "metadata": {
        "colab": {
          "base_uri": "https://localhost:8080/",
          "height": 409
        },
        "id": "CfxhuT9MZceA",
        "outputId": "dc70f7c3-6ee8-4c7a-a2a9-9b96eb1922f6"
      },
      "source": [
        "\n",
        "sns.heatmap(df_train.isnull(),yticklabels=False, cbar= False,cmap= 'viridis')"
      ],
      "execution_count": 70,
      "outputs": [
        {
          "output_type": "execute_result",
          "data": {
            "text/plain": [
              "<matplotlib.axes._subplots.AxesSubplot at 0x7f1a938a7590>"
            ]
          },
          "metadata": {},
          "execution_count": 70
        },
        {
          "output_type": "display_data",
          "data": {
            "image/png": "[encoded data removed]",
            "text/plain": [
              "<Figure size 432x288 with 1 Axes>"
            ]
          },
          "metadata": {
            "needs_background": "light"
          }
        }
      ]
    },
    {
      "cell_type": "code",
      "metadata": {
        "id": "l9BcubtRZfvf"
      },
      "source": [
        "##### before we could remove or handle the missing values, is best to work with only comlumn we \n",
        "# will need to build our model. \n",
        "\n"
      ],
      "execution_count": null,
      "outputs": []
    },
    {
      "cell_type": "markdown",
      "metadata": {
        "id": "Zk9OgnqRZh1m"
      },
      "source": [
        "###removing NA's"
      ]
    },
    {
      "cell_type": "code",
      "metadata": {
        "id": "6a6q_cmtZlbY"
      },
      "source": [
        "##### since our dataset have NUll we will want to work and solve this before we pass Data into the model\n",
        "## the approuch we will use is interpolation by use of numerical methods. \n",
        "\n",
        "\n",
        "new_data = df.interpolate(method='quadratic')\n",
        "new_data['new_score.fix'] = new_data['new_score']\n",
        "new_data['last_core.fix'] = new_data['last_core']\n",
        "new_data.head(7)"
      ],
      "execution_count": null,
      "outputs": []
    },
    {
      "cell_type": "code",
      "metadata": {
        "id": "j3YkyEC5ZpUN"
      },
      "source": [
        "##### plot the graph that will check for any missing values\n",
        "\n",
        "sns.heatmap(new_data.isnull(),yticklabels=False, cbar= False,cmap= 'viridis')"
      ],
      "execution_count": null,
      "outputs": []
    },
    {
      "cell_type": "code",
      "metadata": {
        "id": "JmQeatq2Zsbe"
      },
      "source": [
        "##### new_score vs new_score.fix\n",
        "fig = plt.figure()\n",
        "ax = fig.add_subplot(111)\n",
        "df['new_score'].plot(kind='kde', ax=ax)\n",
        "new_data['last_core.fix'].plot(kind='kde', ax=ax, color='red')\n",
        "lines,labels = ax.get_legend_handles_labels()\n",
        "ax.legend(lines,labels, loc='best')"
      ],
      "execution_count": null,
      "outputs": []
    }
  ]
}